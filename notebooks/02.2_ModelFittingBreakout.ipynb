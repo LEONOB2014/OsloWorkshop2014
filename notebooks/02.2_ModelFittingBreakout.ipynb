{
 "metadata": {
  "name": "",
  "signature": "sha256:a228f0848083f59937622b1004db444be9ed893e429d1581eb1fa0fbc85c952c"
 },
 "nbformat": 3,
 "nbformat_minor": 0,
 "worksheets": [
  {
   "cells": [
    {
     "cell_type": "markdown",
     "metadata": {},
     "source": [
      "# Breakout: Linear Models and Generalized Linear Models"
     ]
    },
    {
     "cell_type": "markdown",
     "metadata": {},
     "source": [
      "Here we'll get a bit of practice constructing and fitting models to data."
     ]
    },
    {
     "cell_type": "code",
     "collapsed": false,
     "input": [
      "from __future__ import print_function, division\n",
      "\n",
      "%matplotlib inline\n",
      "import numpy as np\n",
      "import matplotlib.pyplot as plt\n",
      "import pandas as pd\n",
      "\n",
      "# use seaborn plotting defaults\n",
      "import seaborn as sns; sns.set()"
     ],
     "language": "python",
     "metadata": {},
     "outputs": []
    },
    {
     "cell_type": "markdown",
     "metadata": {},
     "source": [
      "## 1. Download and Clean the Data"
     ]
    },
    {
     "cell_type": "markdown",
     "metadata": {},
     "source": [
      "Since we're in Oslo, let's take a look at daily temperatures measured in Oslo.\n",
      "I found this data at the [following website](http://academic.udayton.edu/kissock/http/Weather/source.htm) (uncomment this code to download the data):"
     ]
    },
    {
     "cell_type": "code",
     "collapsed": false,
     "input": [
      "# !curl -O http://academic.udayton.edu/kissock/http/Weather/gsod95-current/NOOSLO.txt\n",
      "# !mv NOOSLO.txt data"
     ],
     "language": "python",
     "metadata": {},
     "outputs": []
    },
    {
     "cell_type": "markdown",
     "metadata": {},
     "source": [
      "We'll read it this way:"
     ]
    },
    {
     "cell_type": "code",
     "collapsed": false,
     "input": [
      "data = pd.read_csv('data/NOOSLO.txt', delim_whitespace=True,\n",
      "                   names=['month', 'day', 'year', 'degF'])\n",
      "data.describe()"
     ],
     "language": "python",
     "metadata": {},
     "outputs": []
    },
    {
     "cell_type": "markdown",
     "metadata": {},
     "source": [
      "### Cleaning the Data\n",
      "\n",
      "Notice that there's some craziness going on here. First of all, some of the years seem to have been mis-typed as *200*. We'll want to filter those out. Also, some of the temperatures are reported as *-99*. This is a common value used to indicate missing data. Let's remove both of those and re-check the data description:"
     ]
    },
    {
     "cell_type": "code",
     "collapsed": false,
     "input": [
      "# Filter bad years\n",
      "data = data[data.year > 200]\n",
      "\n",
      "# Filter missing data\n",
      "data = data[data.degF > -99]\n",
      "\n",
      "data.describe()"
     ],
     "language": "python",
     "metadata": {},
     "outputs": []
    },
    {
     "cell_type": "markdown",
     "metadata": {},
     "source": [
      "Looks much better! The next thing we'll want to do is to combine the month, day, and year columns into a single date index. We'll do this using Pandas ``to_datetime`` functionality:"
     ]
    },
    {
     "cell_type": "code",
     "collapsed": false,
     "input": [
      "# Create a date index\n",
      "YMD = 10000 * data.year + 100 * data.month + data.day\n",
      "data.index = pd.to_datetime(YMD, format='%Y%m%d').astype('datetime64[ns]')\n",
      "data.head()"
     ],
     "language": "python",
     "metadata": {},
     "outputs": []
    },
    {
     "cell_type": "markdown",
     "metadata": {},
     "source": [
      "## 2. Inspect and visualize the data\n",
      "\n",
      "- convert the fahrenheit measurement to centigrade, and add a new column with this value\n",
      "- use the dataframe's ``plot()`` method to plot the temperature with time\n",
      "- add a column to the dataframe which contains the day of the year (from 0 to 365). You can use the ``data.index.dayofyear`` attribute.\n",
      "- scatter-plot the day of year vs the temperature."
     ]
    },
    {
     "cell_type": "markdown",
     "metadata": {},
     "source": [
      "## 3. Simple model: Line of Best-fit\n",
      "\n",
      "Here we'll practice doing a simple model, even though it will not fit our data well: fit a line of best-fit to the data with the following model:\n",
      "\n",
      "$$\n",
      "y(x) = \\theta_0 + \\theta_1 x\n",
      "$$\n",
      "\n",
      "You can use a cost function of your choice (squared deviation is the best motivated) and use either the scipy minimization or the matrix algebra formalism.\n",
      "\n",
      "Once you've computed the best model, plot this fit over the original data. Note that the best possible fit with this model is not very good \u2013 the model is highly biased!"
     ]
    },
    {
     "cell_type": "markdown",
     "metadata": {},
     "source": [
      "## 4. More Complex model: sum of sinusoids\n",
      "\n",
      "Let's try a more complex model fit to our data. The data looks like it's sinusoidal, so we can fit a model that looks like this:\n",
      "\n",
      "$$\n",
      "y(x) = \\theta_0 + \\theta_1 \\sin \\left(\\frac{2\\pi x}{365}\\right) + \\theta_2 \\cos\\left(\\frac{2\\pi x}{365}\\right)\n",
      "$$\n",
      "\n",
      "Note that this is still a linear model (i.e. Linear in the *model parameters* $\\theta$), so it can also be solved via either iterative minimization, or via matrix methods."
     ]
    },
    {
     "cell_type": "markdown",
     "metadata": {},
     "source": [
      "## 5. Annual Temperature Trends\n",
      "\n",
      "What we've done above is a simple model to fit the annual temperature trends. Here we'll ask how the temperature varied from year to year.\n",
      "\n",
      "- add a column to the data with the de-trended temperature (that is, the true temperature minus the seasonal model from above)\n",
      "- from the index, compute the total number of days since the beginning of the dataset at each point (hint: try converting the dates to integer type: this will give you the time in nanoseconds)\n",
      "- fit a linear model to the detrended data over the entire period. What slope do you see?\n",
      "- How many degrees per year change does this slope correspond to?"
     ]
    },
    {
     "cell_type": "markdown",
     "metadata": {},
     "source": [
      "## 6. Bonus: Fitting the model all at once\n",
      "\n",
      "Parts 2 and 3 were approached as two separate steps, but it's possible to build a *single* linear model which encompasses both a seasonal variation and an annual trend. See if you can find the above temperature slope in a single step!"
     ]
    }
   ],
   "metadata": {}
  }
 ]
}