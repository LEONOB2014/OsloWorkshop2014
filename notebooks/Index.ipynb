{
 "metadata": {
  "name": "",
  "signature": "sha256:2e43638306ead946d73260368b39ed64f511a22fc9fdc6cc30f62cbc1ecf0fa2"
 },
 "nbformat": 3,
 "nbformat_minor": 0,
 "worksheets": [
  {
   "cells": [
    {
     "cell_type": "markdown",
     "metadata": {},
     "source": [
      "# University of Oslo Course\n",
      "\n",
      "- *Jake VanderPlas*\n",
      "- *December 3-5, 2014*\n",
      "\n",
      "This is the material for a 3-day workshop focused on data-driven analysis, statistical methods, and machine learning with Python, held at the University of Oslo during the first week of December 2014. The course is geared towards applications in health econometrics, though most of the examples and breakouts are designed to be broadly applicable."
     ]
    },
    {
     "cell_type": "markdown",
     "metadata": {},
     "source": [
      "## Outline"
     ]
    },
    {
     "cell_type": "markdown",
     "metadata": {},
     "source": [
      "### Wednesday, December 3rd\n",
      "- Data analysis with NumPy and Pandas\n",
      "  1. [Introduction to IPython](01.1_IPythonIntro.ipynb)\n",
      "  2. [Introduction to NumPy and Pandas](01.2_NumpyPandas.ipynb)\n",
      "  3. [Breakout: Exploring Naming Trends](01.3_PandasBreakout.ipynb) (see the solutions [here](solutions/Solution-01.3.ipynb))\n",
      "- Visualization with Matplotlib & other tools\n",
      "  4. [Intro to Matplotlib and Seaborn](01.4_MatplotlibSeaborn.ipynb)\n",
      "  5. [Breakout: Visualization and Exploration of Data](01.5_VisualizationBreakout.ipynb) (see the solutions [here](solutions/Solution-01.5.ipynb))"
     ]
    },
    {
     "cell_type": "markdown",
     "metadata": {},
     "source": [
      "### Thursday, December 4th\n",
      "\n",
      "- Model Fitting basics\n",
      "  1. [Introduction to Model Fitting](02.1_ModelFitting.ipynb)\n",
      "  2. [Breakout: Linear Models](02.2_ModelFittingBreakout.ipynb) (see the solutions [here](solutions/Solution-02.2.ipynb))\n",
      "- From Model Fitting to Machine Learning\n",
      "  1. [Introduction to Scikit-Learn](02.3_ScikitLearnIntro.ipynb)\n",
      "  2. [Breakout: Machine Learning](02.4_MachineLearningBreakout.ipynb) (see the solutions [here](solutions/Solution-02.4.ipynb))"
     ]
    },
    {
     "cell_type": "markdown",
     "metadata": {},
     "source": [
      "### Friday, December 5th\n",
      "\n",
      "- Supervised Machine Learning In-depth\n",
      "  1. [Classification with Support Vector Machines](03.1-Classification-SVMs.ipynb)\n",
      "  2. [Regression with Random Forests](03.2-Regression-Forests.ipynb)\n",
      "  3. [Model Validation & Learning Curves](03.3-Validation.ipynb)\n",
      "  4. [Breakout: Model Validation](03.4-Validation-Breakout.ipynb) (see the solutions [here](solutions/Solution-02.4.ipynb))\n",
      "- Unsupervised Machine Learning In-depth\n",
      "  1. [Dimensionality Reduction with PCA](04.1-Dimensionality-PCA.ipynb)\n",
      "  2. [Clustering with KMeans](04.2-Clustering-KMeans.ipynb)\n",
      "  3. [Density Estimation with GMM](04.3-Density-GMM.ipynb)\n",
      "  4. [Breakout: Principal Component Analysis](04.4-UnsupervisedBreakout.ipynb) (see the solutions [here](solutions/Solution-04.4.ipynb))"
     ]
    }
   ],
   "metadata": {}
  }
 ]
}