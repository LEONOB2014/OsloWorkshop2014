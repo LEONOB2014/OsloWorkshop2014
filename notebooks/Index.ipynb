{
 "metadata": {
  "name": "",
  "signature": "sha256:44cca4e3460464a51ac78cac18374597b171c8bb0e28cb72e6c22346c65840ee"
 },
 "nbformat": 3,
 "nbformat_minor": 0,
 "worksheets": [
  {
   "cells": [
    {
     "cell_type": "markdown",
     "metadata": {},
     "source": [
      "# University of Oslo Course\n",
      "\n",
      "- *Jake VanderPlas*\n",
      "- *December 3-5, 2014*\n",
      "\n",
      "This is the material for a 3-day workshop focused on data analysis for Health Economics, held at the University of Oslo during the first week of December 2014."
     ]
    },
    {
     "cell_type": "markdown",
     "metadata": {},
     "source": [
      "## Outline\n",
      "\n",
      "### Wednesday, December 3rd\n",
      "- Data analysis with NumPy and Pandas\n",
      "  1. [Introduction to IPython](01.1_IPythonIntro.ipynb)\n",
      "  2. [Introduction to NumPy and Pandas](01.2_NumpyPandas.ipynb)\n",
      "  3. [Breakout: Exploring Naming Trends](01.3_PandasBreakout.ipynb) (see the solutions [here](solutions/Solution-01.3.ipynb))\n",
      "- Visualization with Matplotlib & other tools\n",
      "  4. [Intro to Matplotlib and Seaborn](01.4_MatplotlibSeaborn.ipynb)\n",
      "  5. Breakout: Titanic Data\n",
      "\n",
      "### Thursday, December 4th\n",
      "\n",
      "- Model Fitting basics\n",
      "- From Model Fitting to Machine Learning\n",
      "\n",
      "### Friday, December 5th\n",
      "\n",
      "- Supervised Machine Learning In-depth\n",
      "- Unsupervised Machine Learning In-depth"
     ]
    },
    {
     "cell_type": "code",
     "collapsed": false,
     "input": [],
     "language": "python",
     "metadata": {},
     "outputs": []
    }
   ],
   "metadata": {}
  }
 ]
}