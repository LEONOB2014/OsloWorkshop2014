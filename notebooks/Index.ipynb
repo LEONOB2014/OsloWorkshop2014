{
 "metadata": {
  "name": "",
  "signature": "sha256:5aca7d9d9628a5daed520e7da493595264bd68b8cf94e20b50bf5ea231437e3c"
 },
 "nbformat": 3,
 "nbformat_minor": 0,
 "worksheets": [
  {
   "cells": [
    {
     "cell_type": "markdown",
     "metadata": {},
     "source": [
      "# University of Oslo Course\n",
      "\n",
      "- *Jake VanderPlas*\n",
      "- *December 3-5, 2014*\n",
      "\n",
      "This is the material for a 3-day workshop focused on data analysis for Health Economics, held at the University of Oslo during the first week of December 2014."
     ]
    },
    {
     "cell_type": "markdown",
     "metadata": {},
     "source": [
      "## Outline\n",
      "\n",
      "### Wednesday, December 3rd\n",
      "- Data analysis with NumPy and Pandas\n",
      "  1. [Introduction to IPython](01.1_IPythonIntro.ipynb)\n",
      "  2. [Introduction to NumPy and Pandas](01.2_NumpyPandas.ipynb)\n",
      "  3. [Breakout: Exploring Naming Trends](01.3_PandasBreakout.ipynb) (see the solutions [here](solutions/Solution-01.3.ipynb))\n",
      "- Visualization with Matplotlib & other tools\n",
      "\n",
      "### Thursday, December 4th\n",
      "\n",
      "- Model Fitting basics\n",
      "- From Model Fitting to Machine Learning\n",
      "\n",
      "### Friday, December 5th\n",
      "\n",
      "- Supervised Machine Learning\n",
      "- Unsupervised Machine Learning"
     ]
    },
    {
     "cell_type": "code",
     "collapsed": false,
     "input": [],
     "language": "python",
     "metadata": {},
     "outputs": []
    }
   ],
   "metadata": {}
  }
 ]
}