{
 "metadata": {
  "name": "",
  "signature": "sha256:f6392573b6ea31bdab2e1441e5dfcfdcb004df4a78782ce5d0a6fbc8e8c74b18"
 },
 "nbformat": 3,
 "nbformat_minor": 0,
 "worksheets": [
  {
   "cells": [
    {
     "cell_type": "markdown",
     "metadata": {},
     "source": [
      "# University of Oslo Course\n",
      "\n",
      "- *Jake VanderPlas*\n",
      "- *December 3-5, 2014*\n",
      "\n",
      "This is the material for a 3-day workshop focused on data analysis for Health Economics, held at the University of Oslo during the first week of December 2014."
     ]
    },
    {
     "cell_type": "markdown",
     "metadata": {},
     "source": [
      "## Outline\n",
      "\n",
      "### Wednesday, December 3rd\n",
      "- Data analysis with NumPy and Pandas\n",
      "  1. [Introduction to IPython](01.1_IPythonIntro.ipynb)\n",
      "  2. [Introduction to NumPy and Pandas](01.2_NumpyPandas.ipynb)\n",
      "  3. Breakout: Exploring Baby Names\n",
      "- Visualization with Matplotlib & other tools\n",
      "\n",
      "### Thursday, December 4th\n",
      "\n",
      "- Model Fitting basics\n",
      "- From Model Fitting to Machine Learning\n",
      "\n",
      "### Friday, December 5th\n",
      "\n",
      "- Supervised Machine Learning\n",
      "- Unsupervised Machine Learning"
     ]
    },
    {
     "cell_type": "code",
     "collapsed": false,
     "input": [],
     "language": "python",
     "metadata": {},
     "outputs": []
    }
   ],
   "metadata": {}
  }
 ]
}