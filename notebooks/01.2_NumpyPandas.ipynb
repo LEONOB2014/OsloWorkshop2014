{
 "metadata": {
  "name": "",
  "signature": "sha256:11171d58d0f76f054a60a9b4234afdff59a3594eb82e7dffa10a352b377a6e31"
 },
 "nbformat": 3,
 "nbformat_minor": 0,
 "worksheets": [
  {
   "cells": [
    {
     "cell_type": "code",
     "collapsed": false,
     "input": [
      "%matplotlib inline\n",
      "import matplotlib.pyplot as plt\n",
      "import numpy as np\n",
      "import pandas as pd\n",
      "\n",
      "# Following is optional: set plotting styles\n",
      "import seaborn; seaborn.set()"
     ],
     "language": "python",
     "metadata": {
      "internals": {
       "slide_helper": "subslide_end",
       "slide_type": "subslide"
      },
      "slide_helper": "slide_end",
      "slideshow": {
       "slide_type": "slide"
      },
      "trusted": true
     },
     "outputs": [],
     "prompt_number": 1
    },
    {
     "cell_type": "markdown",
     "metadata": {
      "internals": {
       "slide_type": "subslide"
      },
      "slideshow": {
       "slide_type": "slide"
      }
     },
     "source": [
      "# Data Analysis with NumPy and Pandas\n",
      "\n",
      "Outline:\n",
      "\n",
      "- Python Lists vs NumPy Arrays\n",
      "- Keys to Using NumPy\n",
      "- Pandas: Diving into the ``Series`` and ``Dataframe``\n",
      "- Example: Names in the Wild"
     ]
    },
    {
     "cell_type": "markdown",
     "metadata": {},
     "source": [
      "## Python Lists vs. NumPy Arrays\n",
      "\n",
      "While the Python language is an excellent tool for general-purpose programming, with a highly readable syntax, rich and powerful data types (strings, lists, sets, dictionaries, arbitrary length integers, etc) and a very comprehensive standard library, it was not designed specifically for mathematical and scientific computing.  Neither the language nor its standard library have facilities for the efficient representation of multidimensional datasets, tools for linear algebra and general matrix manipulations (an essential building block of virtually all technical computing), nor any data visualization facilities.\n",
      "\n",
      "In particular, Python lists are very flexible containers that can be nested arbitrarily deep and which can hold any Python object in them, but they are poorly suited to represent efficiently common mathematical constructs like vectors and matrices.  In contrast, much of our modern heritage of scientific computing has been built on top of libraries written in the Fortran language, which has native support for vectors and matrices as well as a library of mathematical functions that can efficiently operate on entire arrays at once."
     ]
    },
    {
     "cell_type": "markdown",
     "metadata": {},
     "source": [
      "### Review: Working with Lists\n",
      "\n",
      "Lists in Python are collections which store values for manipulation:"
     ]
    },
    {
     "cell_type": "code",
     "collapsed": false,
     "input": [
      "L = [1, 2, 3, 4, 5]"
     ],
     "language": "python",
     "metadata": {},
     "outputs": [],
     "prompt_number": 2
    },
    {
     "cell_type": "code",
     "collapsed": false,
     "input": [
      "# Zero-based Indexing\n",
      "print(L[0], L[1])"
     ],
     "language": "python",
     "metadata": {},
     "outputs": [
      {
       "output_type": "stream",
       "stream": "stdout",
       "text": [
        "1 2\n"
       ]
      }
     ],
     "prompt_number": 3
    },
    {
     "cell_type": "code",
     "collapsed": false,
     "input": [
      "# Indexing from the end\n",
      "print(L[-1], L[-2])"
     ],
     "language": "python",
     "metadata": {},
     "outputs": [
      {
       "output_type": "stream",
       "stream": "stdout",
       "text": [
        "5 4\n"
       ]
      }
     ],
     "prompt_number": 4
    },
    {
     "cell_type": "code",
     "collapsed": false,
     "input": [
      "# Slicing\n",
      "L[0:3]"
     ],
     "language": "python",
     "metadata": {},
     "outputs": [
      {
       "metadata": {},
       "output_type": "pyout",
       "prompt_number": 5,
       "text": [
        "[1, 2, 3]"
       ]
      }
     ],
     "prompt_number": 5
    },
    {
     "cell_type": "code",
     "collapsed": false,
     "input": [
      "# The 0 can be left-out\n",
      "L[:3]"
     ],
     "language": "python",
     "metadata": {},
     "outputs": [
      {
       "metadata": {},
       "output_type": "pyout",
       "prompt_number": 6,
       "text": [
        "[1, 2, 3]"
       ]
      }
     ],
     "prompt_number": 6
    },
    {
     "cell_type": "code",
     "collapsed": false,
     "input": [
      "# Slicing by a step size\n",
      "L[0:5:2]"
     ],
     "language": "python",
     "metadata": {},
     "outputs": [
      {
       "metadata": {},
       "output_type": "pyout",
       "prompt_number": 7,
       "text": [
        "[1, 3, 5]"
       ]
      }
     ],
     "prompt_number": 7
    },
    {
     "cell_type": "code",
     "collapsed": false,
     "input": [
      "# Reversing with a negative step size\n",
      "L[::-1]"
     ],
     "language": "python",
     "metadata": {},
     "outputs": [
      {
       "metadata": {},
       "output_type": "pyout",
       "prompt_number": 8,
       "text": [
        "[5, 4, 3, 2, 1]"
       ]
      }
     ],
     "prompt_number": 8
    },
    {
     "cell_type": "code",
     "collapsed": false,
     "input": [
      "# Lists of multiple types\n",
      "L2 = [1, 'two', 3.14]"
     ],
     "language": "python",
     "metadata": {},
     "outputs": [],
     "prompt_number": 9
    },
    {
     "cell_type": "code",
     "collapsed": false,
     "input": [
      "# Adding lists together will append them:\n",
      "L + L2"
     ],
     "language": "python",
     "metadata": {},
     "outputs": [
      {
       "metadata": {},
       "output_type": "pyout",
       "prompt_number": 10,
       "text": [
        "[1, 2, 3, 4, 5, 1, 'two', 3.14]"
       ]
      }
     ],
     "prompt_number": 10
    },
    {
     "cell_type": "markdown",
     "metadata": {},
     "source": [
      "### Why are lists not good for data-intensive science?\n",
      "\n",
      "1. Due to Python ``list``'s flexibility, they are inefficient for storing large amounts of data\n",
      "2. Due to Python's dynamic nature, operations on large lists are inefficient."
     ]
    },
    {
     "cell_type": "code",
     "collapsed": false,
     "input": [
      "import math\n",
      "\n",
      "# make a large list of theta values\n",
      "theta = [0.01 * i for i in range(1000000)]\n",
      "sin_theta = [math.sin(t) for t in theta]\n",
      "sin_theta[:10]"
     ],
     "language": "python",
     "metadata": {
      "internals": {
       "frag_helper": "fragment_end",
       "frag_number": 6,
       "slide_type": "subslide"
      },
      "slideshow": {
       "slide_type": "slide"
      },
      "trusted": true
     },
     "outputs": [
      {
       "metadata": {},
       "output_type": "pyout",
       "prompt_number": 11,
       "text": [
        "[0.0,\n",
        " 0.009999833334166664,\n",
        " 0.01999866669333308,\n",
        " 0.02999550020249566,\n",
        " 0.03998933418663416,\n",
        " 0.04997916927067833,\n",
        " 0.059964006479444595,\n",
        " 0.06994284733753277,\n",
        " 0.0799146939691727,\n",
        " 0.08987854919801104]"
       ]
      }
     ],
     "prompt_number": 11
    },
    {
     "cell_type": "code",
     "collapsed": false,
     "input": [
      "%timeit [math.sin(t) for t in theta]"
     ],
     "language": "python",
     "metadata": {},
     "outputs": [
      {
       "output_type": "stream",
       "stream": "stdout",
       "text": [
        "10 loops, best of 3: 135 ms per loop\n"
       ]
      }
     ],
     "prompt_number": 12
    },
    {
     "cell_type": "markdown",
     "metadata": {},
     "source": [
      "Let's take a look at doing essentially the same operation using *NumPy*.\n",
      "\n",
      "By convention, we'll import ``numpy`` under the shorthand ``np``:"
     ]
    },
    {
     "cell_type": "code",
     "collapsed": false,
     "input": [
      "import numpy as np"
     ],
     "language": "python",
     "metadata": {},
     "outputs": [],
     "prompt_number": 13
    },
    {
     "cell_type": "code",
     "collapsed": false,
     "input": [
      "theta = 0.01 * np.arange(1E6)\n",
      "\n",
      "sin_theta = np.sin(theta)\n",
      "sin_theta[:10]"
     ],
     "language": "python",
     "metadata": {
      "internals": {
       "frag_helper": "fragment_end",
       "frag_number": 13,
       "slide_helper": "subslide_end"
      },
      "slide_helper": "slide_end",
      "slideshow": {
       "slide_type": "fragment"
      },
      "trusted": true
     },
     "outputs": [
      {
       "metadata": {},
       "output_type": "pyout",
       "prompt_number": 14,
       "text": [
        "array([ 0.        ,  0.00999983,  0.01999867,  0.0299955 ,  0.03998933,\n",
        "        0.04997917,  0.05996401,  0.06994285,  0.07991469,  0.08987855])"
       ]
      }
     ],
     "prompt_number": 14
    },
    {
     "cell_type": "code",
     "collapsed": false,
     "input": [
      "%timeit np.sin(theta)"
     ],
     "language": "python",
     "metadata": {},
     "outputs": [
      {
       "output_type": "stream",
       "stream": "stdout",
       "text": [
        "100 loops, best of 3: 15.6 ms per loop\n"
       ]
      }
     ],
     "prompt_number": 15
    },
    {
     "cell_type": "markdown",
     "metadata": {},
     "source": [
      "NumPy's version of this is nearly 10x faster than the list-based Python version, and it is arguably simpler as well!"
     ]
    },
    {
     "cell_type": "markdown",
     "metadata": {
      "internals": {
       "frag_helper": "fragment_end",
       "frag_number": 13,
       "slide_helper": "subslide_end",
       "slide_type": "subslide"
      },
      "slide_helper": "slide_end",
      "slideshow": {
       "slide_type": "slide"
      }
     },
     "source": [
      "## Keys to Using NumPy Effectively"
     ]
    },
    {
     "cell_type": "markdown",
     "metadata": {},
     "source": [
      "There is a **lot** of info out there about how to use ``numpy``. Here I want to just briefly go over some of the key concepts as we progress to talking about using Python for real-world data."
     ]
    },
    {
     "cell_type": "markdown",
     "metadata": {},
     "source": [
      "### Creating Arrays\n",
      "\n",
      "There are many, many ways to create Python arrays. We'll demonstrate a few here:"
     ]
    },
    {
     "cell_type": "code",
     "collapsed": false,
     "input": [
      "# from a list\n",
      "np.array([1, 2, 3, 4])"
     ],
     "language": "python",
     "metadata": {},
     "outputs": [
      {
       "metadata": {},
       "output_type": "pyout",
       "prompt_number": 16,
       "text": [
        "array([1, 2, 3, 4])"
       ]
      }
     ],
     "prompt_number": 16
    },
    {
     "cell_type": "code",
     "collapsed": false,
     "input": [
      "# range of numbers, like Python's range()\n",
      "np.arange(0, 10, 0.5)"
     ],
     "language": "python",
     "metadata": {},
     "outputs": [
      {
       "metadata": {},
       "output_type": "pyout",
       "prompt_number": 17,
       "text": [
        "array([ 0. ,  0.5,  1. ,  1.5,  2. ,  2.5,  3. ,  3.5,  4. ,  4.5,  5. ,\n",
        "        5.5,  6. ,  6.5,  7. ,  7.5,  8. ,  8.5,  9. ,  9.5])"
       ]
      }
     ],
     "prompt_number": 17
    },
    {
     "cell_type": "code",
     "collapsed": false,
     "input": [
      "# range of numbers between two limits\n",
      "np.linspace(0, 10, 5)"
     ],
     "language": "python",
     "metadata": {},
     "outputs": [
      {
       "metadata": {},
       "output_type": "pyout",
       "prompt_number": 18,
       "text": [
        "array([  0. ,   2.5,   5. ,   7.5,  10. ])"
       ]
      }
     ],
     "prompt_number": 18
    },
    {
     "cell_type": "code",
     "collapsed": false,
     "input": [
      "# array of zeros\n",
      "np.zeros(10)"
     ],
     "language": "python",
     "metadata": {},
     "outputs": [
      {
       "metadata": {},
       "output_type": "pyout",
       "prompt_number": 19,
       "text": [
        "array([ 0.,  0.,  0.,  0.,  0.,  0.,  0.,  0.,  0.,  0.])"
       ]
      }
     ],
     "prompt_number": 19
    },
    {
     "cell_type": "code",
     "collapsed": false,
     "input": [
      "# array of ones\n",
      "np.ones(10)"
     ],
     "language": "python",
     "metadata": {},
     "outputs": [
      {
       "metadata": {},
       "output_type": "pyout",
       "prompt_number": 20,
       "text": [
        "array([ 1.,  1.,  1.,  1.,  1.,  1.,  1.,  1.,  1.,  1.])"
       ]
      }
     ],
     "prompt_number": 20
    },
    {
     "cell_type": "code",
     "collapsed": false,
     "input": [
      "# array of random values\n",
      "np.random.rand(10)"
     ],
     "language": "python",
     "metadata": {},
     "outputs": [
      {
       "metadata": {},
       "output_type": "pyout",
       "prompt_number": 21,
       "text": [
        "array([ 0.31474452,  0.38992738,  0.1364558 ,  0.40406237,  0.34551837,\n",
        "        0.52459404,  0.99623876,  0.42274107,  0.61461932,  0.94634233])"
       ]
      }
     ],
     "prompt_number": 21
    },
    {
     "cell_type": "markdown",
     "metadata": {},
     "source": [
      "### Operating on Arrays\n",
      "\n",
      "Operations on numpy arrays are done **element-wise**. This means that you don't explicitly have to write for-loops in order to do these operations!"
     ]
    },
    {
     "cell_type": "code",
     "collapsed": false,
     "input": [
      "# define some arrays\n",
      "x = np.arange(5)\n",
      "y = np.random.random(5)"
     ],
     "language": "python",
     "metadata": {},
     "outputs": [],
     "prompt_number": 22
    },
    {
     "cell_type": "code",
     "collapsed": false,
     "input": [
      "# addition \u2013 add 1 to each\n",
      "x + 1"
     ],
     "language": "python",
     "metadata": {},
     "outputs": [
      {
       "metadata": {},
       "output_type": "pyout",
       "prompt_number": 23,
       "text": [
        "array([1, 2, 3, 4, 5])"
       ]
      }
     ],
     "prompt_number": 23
    },
    {
     "cell_type": "code",
     "collapsed": false,
     "input": [
      "# multiplication \u2013 multiply each by 2\n",
      "y * 2"
     ],
     "language": "python",
     "metadata": {},
     "outputs": [
      {
       "metadata": {},
       "output_type": "pyout",
       "prompt_number": 24,
       "text": [
        "array([ 0.17261333,  0.66965776,  1.70090981,  1.54497202,  1.21444931])"
       ]
      }
     ],
     "prompt_number": 24
    },
    {
     "cell_type": "code",
     "collapsed": false,
     "input": [
      "# two arrays: everything is element-wise\n",
      "x / y"
     ],
     "language": "python",
     "metadata": {},
     "outputs": [
      {
       "metadata": {},
       "output_type": "pyout",
       "prompt_number": 25,
       "text": [
        "array([ 0.        ,  2.9866002 ,  2.3516826 ,  3.88356547,  6.58734781])"
       ]
      }
     ],
     "prompt_number": 25
    },
    {
     "cell_type": "code",
     "collapsed": false,
     "input": [
      "# exponentiation\n",
      "np.exp(x)"
     ],
     "language": "python",
     "metadata": {},
     "outputs": [
      {
       "metadata": {},
       "output_type": "pyout",
       "prompt_number": 26,
       "text": [
        "array([  1.        ,   2.71828183,   7.3890561 ,  20.08553692,  54.59815003])"
       ]
      }
     ],
     "prompt_number": 26
    },
    {
     "cell_type": "code",
     "collapsed": false,
     "input": [
      "# trigonometric functions\n",
      "np.sin(x)"
     ],
     "language": "python",
     "metadata": {},
     "outputs": [
      {
       "metadata": {},
       "output_type": "pyout",
       "prompt_number": 27,
       "text": [
        "array([ 0.        ,  0.84147098,  0.90929743,  0.14112001, -0.7568025 ])"
       ]
      }
     ],
     "prompt_number": 27
    },
    {
     "cell_type": "code",
     "collapsed": false,
     "input": [
      "# combining operations\n",
      "np.cos(x) + np.sin(2 * np.pi * (x - y))"
     ],
     "language": "python",
     "metadata": {},
     "outputs": [
      {
       "metadata": {},
       "output_type": "pyout",
       "prompt_number": 28,
       "text": [
        "array([  4.83909124e-01,  -3.20986533e-01,   3.91186819e-01,\n",
        "         4.35415090e-05,  -2.97520808e-02])"
       ]
      }
     ],
     "prompt_number": 28
    },
    {
     "cell_type": "markdown",
     "metadata": {},
     "source": [
      "### Indexing and Slicing Arrays\n",
      "\n",
      "Indexing works just like with Python lists:"
     ]
    },
    {
     "cell_type": "code",
     "collapsed": false,
     "input": [
      "x"
     ],
     "language": "python",
     "metadata": {},
     "outputs": [
      {
       "metadata": {},
       "output_type": "pyout",
       "prompt_number": 29,
       "text": [
        "array([0, 1, 2, 3, 4])"
       ]
      }
     ],
     "prompt_number": 29
    },
    {
     "cell_type": "code",
     "collapsed": false,
     "input": [
      "x[0], x[1]"
     ],
     "language": "python",
     "metadata": {},
     "outputs": [
      {
       "metadata": {},
       "output_type": "pyout",
       "prompt_number": 30,
       "text": [
        "(0, 1)"
       ]
      }
     ],
     "prompt_number": 30
    },
    {
     "cell_type": "code",
     "collapsed": false,
     "input": [
      "x[:3]"
     ],
     "language": "python",
     "metadata": {},
     "outputs": [
      {
       "metadata": {},
       "output_type": "pyout",
       "prompt_number": 31,
       "text": [
        "array([0, 1, 2])"
       ]
      }
     ],
     "prompt_number": 31
    },
    {
     "cell_type": "code",
     "collapsed": false,
     "input": [
      "x[::2]"
     ],
     "language": "python",
     "metadata": {},
     "outputs": [
      {
       "metadata": {},
       "output_type": "pyout",
       "prompt_number": 32,
       "text": [
        "array([0, 2, 4])"
       ]
      }
     ],
     "prompt_number": 32
    },
    {
     "cell_type": "code",
     "collapsed": false,
     "input": [
      "x[::-1]"
     ],
     "language": "python",
     "metadata": {},
     "outputs": [
      {
       "metadata": {},
       "output_type": "pyout",
       "prompt_number": 33,
       "text": [
        "array([4, 3, 2, 1, 0])"
       ]
      }
     ],
     "prompt_number": 33
    },
    {
     "cell_type": "markdown",
     "metadata": {},
     "source": [
      "Unlike lists, NumPy arrays can have multiple dimensions, and the indexing and slicing works efficiently!"
     ]
    },
    {
     "cell_type": "code",
     "collapsed": false,
     "input": [
      "M = np.arange(20).reshape(4, 5)\n",
      "M"
     ],
     "language": "python",
     "metadata": {},
     "outputs": [
      {
       "metadata": {},
       "output_type": "pyout",
       "prompt_number": 34,
       "text": [
        "array([[ 0,  1,  2,  3,  4],\n",
        "       [ 5,  6,  7,  8,  9],\n",
        "       [10, 11, 12, 13, 14],\n",
        "       [15, 16, 17, 18, 19]])"
       ]
      }
     ],
     "prompt_number": 34
    },
    {
     "cell_type": "code",
     "collapsed": false,
     "input": [
      "M[1, 2]"
     ],
     "language": "python",
     "metadata": {},
     "outputs": [
      {
       "metadata": {},
       "output_type": "pyout",
       "prompt_number": 35,
       "text": [
        "7"
       ]
      }
     ],
     "prompt_number": 35
    },
    {
     "cell_type": "code",
     "collapsed": false,
     "input": [
      "M[:2, :2]"
     ],
     "language": "python",
     "metadata": {},
     "outputs": [
      {
       "metadata": {},
       "output_type": "pyout",
       "prompt_number": 36,
       "text": [
        "array([[0, 1],\n",
        "       [5, 6]])"
       ]
      }
     ],
     "prompt_number": 36
    },
    {
     "cell_type": "code",
     "collapsed": false,
     "input": [
      "M[:, 1:3]"
     ],
     "language": "python",
     "metadata": {},
     "outputs": [
      {
       "metadata": {},
       "output_type": "pyout",
       "prompt_number": 37,
       "text": [
        "array([[ 1,  2],\n",
        "       [ 6,  7],\n",
        "       [11, 12],\n",
        "       [16, 17]])"
       ]
      }
     ],
     "prompt_number": 37
    },
    {
     "cell_type": "markdown",
     "metadata": {},
     "source": [
      "### Masking\n",
      "\n",
      "Another useful way of indexing arrays is to use masks. If we do a **boolean** operation on some array, the result is a boolean array:"
     ]
    },
    {
     "cell_type": "code",
     "collapsed": false,
     "input": [
      "M"
     ],
     "language": "python",
     "metadata": {},
     "outputs": [
      {
       "metadata": {},
       "output_type": "pyout",
       "prompt_number": 38,
       "text": [
        "array([[ 0,  1,  2,  3,  4],\n",
        "       [ 5,  6,  7,  8,  9],\n",
        "       [10, 11, 12, 13, 14],\n",
        "       [15, 16, 17, 18, 19]])"
       ]
      }
     ],
     "prompt_number": 38
    },
    {
     "cell_type": "code",
     "collapsed": false,
     "input": [
      "M < 8"
     ],
     "language": "python",
     "metadata": {},
     "outputs": [
      {
       "metadata": {},
       "output_type": "pyout",
       "prompt_number": 39,
       "text": [
        "array([[ True,  True,  True,  True,  True],\n",
        "       [ True,  True,  True, False, False],\n",
        "       [False, False, False, False, False],\n",
        "       [False, False, False, False, False]], dtype=bool)"
       ]
      }
     ],
     "prompt_number": 39
    },
    {
     "cell_type": "markdown",
     "metadata": {},
     "source": [
      "Boolean mask arrays can be used to select portions of a larger array, and operate on them"
     ]
    },
    {
     "cell_type": "code",
     "collapsed": false,
     "input": [
      "M[M < 8] = 0\n",
      "M"
     ],
     "language": "python",
     "metadata": {},
     "outputs": [
      {
       "metadata": {},
       "output_type": "pyout",
       "prompt_number": 40,
       "text": [
        "array([[ 0,  0,  0,  0,  0],\n",
        "       [ 0,  0,  0,  8,  9],\n",
        "       [10, 11, 12, 13, 14],\n",
        "       [15, 16, 17, 18, 19]])"
       ]
      }
     ],
     "prompt_number": 40
    },
    {
     "cell_type": "code",
     "collapsed": false,
     "input": [
      "M[M == 12] *= 2\n",
      "M"
     ],
     "language": "python",
     "metadata": {},
     "outputs": [
      {
       "metadata": {},
       "output_type": "pyout",
       "prompt_number": 41,
       "text": [
        "array([[ 0,  0,  0,  0,  0],\n",
        "       [ 0,  0,  0,  8,  9],\n",
        "       [10, 11, 24, 13, 14],\n",
        "       [15, 16, 17, 18, 19]])"
       ]
      }
     ],
     "prompt_number": 41
    },
    {
     "cell_type": "code",
     "collapsed": false,
     "input": [
      "M[M % 2 == 0] = 999\n",
      "M"
     ],
     "language": "python",
     "metadata": {},
     "outputs": [
      {
       "metadata": {},
       "output_type": "pyout",
       "prompt_number": 42,
       "text": [
        "array([[999, 999, 999, 999, 999],\n",
        "       [999, 999, 999, 999,   9],\n",
        "       [999,  11, 999,  13, 999],\n",
        "       [ 15, 999,  17, 999,  19]])"
       ]
      }
     ],
     "prompt_number": 42
    },
    {
     "cell_type": "markdown",
     "metadata": {},
     "source": [
      "As I mentioned, there is much more to numpy arrays, but this has covered the basic pieces needed here!"
     ]
    },
    {
     "cell_type": "markdown",
     "metadata": {},
     "source": [
      "## Pandas: NumPy Plus Labels\n",
      "\n",
      "For data-intensive work in Python the [Pandas](http://pandas.pydata.org) library has become essential. Pandas originally meant **Pan**el **Da**ta, though many users probably don't know that.\n",
      "\n",
      "Pandas can be thought of as NumPy with built-in labels for rows and columns, but it's also much, much more than that.\n",
      "\n",
      "Pandas does this through two fundamental object types, both built upon NumPy arrays: the ``Series`` object, and the ``DataFrame`` object."
     ]
    },
    {
     "cell_type": "markdown",
     "metadata": {},
     "source": [
      "### Making a Pandas ``Series``\n",
      "\n",
      "A Series is a basic holder for one-dimensional labeled data. It can be created much as a NumPy array is created:"
     ]
    },
    {
     "cell_type": "code",
     "collapsed": false,
     "input": [
      "s = pd.Series([0.1, 0.2, 0.3, 0.4])"
     ],
     "language": "python",
     "metadata": {},
     "outputs": [],
     "prompt_number": 43
    },
    {
     "cell_type": "markdown",
     "metadata": {},
     "source": [
      "The series has a built-in concept of an **index**, which by default is the numbers *0* through *N - 1*"
     ]
    },
    {
     "cell_type": "code",
     "collapsed": false,
     "input": [
      "s.index"
     ],
     "language": "python",
     "metadata": {},
     "outputs": [
      {
       "metadata": {},
       "output_type": "pyout",
       "prompt_number": 44,
       "text": [
        "Int64Index([0, 1, 2, 3], dtype='int64')"
       ]
      }
     ],
     "prompt_number": 44
    },
    {
     "cell_type": "markdown",
     "metadata": {},
     "source": [
      "We can access series values via the index, just like for NumPy arrays:"
     ]
    },
    {
     "cell_type": "code",
     "collapsed": false,
     "input": [
      "s[0]"
     ],
     "language": "python",
     "metadata": {},
     "outputs": [
      {
       "metadata": {},
       "output_type": "pyout",
       "prompt_number": 45,
       "text": [
        "0.10000000000000001"
       ]
      }
     ],
     "prompt_number": 45
    },
    {
     "cell_type": "markdown",
     "metadata": {},
     "source": [
      "Unlike the NumPy array, though, this index can be something other than integers:"
     ]
    },
    {
     "cell_type": "code",
     "collapsed": false,
     "input": [
      "s2 = pd.Series(np.arange(4), index=['a', 'b', 'c', 'd'])\n",
      "s2"
     ],
     "language": "python",
     "metadata": {},
     "outputs": [
      {
       "metadata": {},
       "output_type": "pyout",
       "prompt_number": 46,
       "text": [
        "a    0\n",
        "b    1\n",
        "c    2\n",
        "d    3\n",
        "dtype: int64"
       ]
      }
     ],
     "prompt_number": 46
    },
    {
     "cell_type": "code",
     "collapsed": false,
     "input": [
      "s2['c']"
     ],
     "language": "python",
     "metadata": {},
     "outputs": [
      {
       "metadata": {},
       "output_type": "pyout",
       "prompt_number": 47,
       "text": [
        "2"
       ]
      }
     ],
     "prompt_number": 47
    },
    {
     "cell_type": "markdown",
     "metadata": {},
     "source": [
      "In this way, a ``Series`` object can be thought of as similar to an ordered dictionary mapping one typed value to another typed value.\n",
      "\n",
      "In fact, it's possible to construct a series directly from a Python dictionary:"
     ]
    },
    {
     "cell_type": "code",
     "collapsed": false,
     "input": [
      "pop_dict = {'California': 38332521,\n",
      "            'Texas': 26448193,\n",
      "            'New York': 19651127,\n",
      "            'Florida': 19552860,\n",
      "            'Illinois': 12882135}\n",
      "populations = pd.Series(pop_dict)\n",
      "populations"
     ],
     "language": "python",
     "metadata": {},
     "outputs": [
      {
       "metadata": {},
       "output_type": "pyout",
       "prompt_number": 48,
       "text": [
        "California    38332521\n",
        "Florida       19552860\n",
        "Illinois      12882135\n",
        "New York      19651127\n",
        "Texas         26448193\n",
        "dtype: int64"
       ]
      }
     ],
     "prompt_number": 48
    },
    {
     "cell_type": "markdown",
     "metadata": {},
     "source": [
      "Note that because Python dictionaries are an unordered object, the order of the resulting series will not match the order of the dictionary definition.\n",
      "\n",
      "We can index or slice the populations as expected:"
     ]
    },
    {
     "cell_type": "code",
     "collapsed": false,
     "input": [
      "populations['California']"
     ],
     "language": "python",
     "metadata": {},
     "outputs": [
      {
       "metadata": {},
       "output_type": "pyout",
       "prompt_number": 49,
       "text": [
        "38332521"
       ]
      }
     ],
     "prompt_number": 49
    },
    {
     "cell_type": "code",
     "collapsed": false,
     "input": [
      "populations['California':'Illinois']"
     ],
     "language": "python",
     "metadata": {},
     "outputs": [
      {
       "metadata": {},
       "output_type": "pyout",
       "prompt_number": 50,
       "text": [
        "California    38332521\n",
        "Florida       19552860\n",
        "Illinois      12882135\n",
        "dtype: int64"
       ]
      }
     ],
     "prompt_number": 50
    },
    {
     "cell_type": "markdown",
     "metadata": {},
     "source": [
      "### DataFrames: Multi-dimensional Data\n",
      "\n",
      "A dataframe, essentially, is a multi-dimensional object to hold labeled data. You can think of it as multiple Series object which share the same index.\n",
      "\n",
      "One of the most common ways of creating a dataframe is from a dictionary of arrays or lists. Note that in the IPython notebook with the correct settings, the dataframe will display in a rich HTML view:"
     ]
    },
    {
     "cell_type": "code",
     "collapsed": false,
     "input": [
      "data = {'state': ['California', 'Texas', 'New York', 'Florida', 'Illinois'],\n",
      "        'population': [38332521, 26448193, 19651127, 19552860, 12882135],\n",
      "        'area':[423967, 695662, 141297, 170312, 149995]}\n",
      "states = pd.DataFrame(data)\n",
      "states"
     ],
     "language": "python",
     "metadata": {},
     "outputs": [
      {
       "html": [
        "<div style=\"max-height:1000px;max-width:1500px;overflow:auto;\">\n",
        "<table border=\"1\" class=\"dataframe\">\n",
        "  <thead>\n",
        "    <tr style=\"text-align: right;\">\n",
        "      <th></th>\n",
        "      <th>area</th>\n",
        "      <th>population</th>\n",
        "      <th>state</th>\n",
        "    </tr>\n",
        "  </thead>\n",
        "  <tbody>\n",
        "    <tr>\n",
        "      <th>0</th>\n",
        "      <td> 423967</td>\n",
        "      <td> 38332521</td>\n",
        "      <td> California</td>\n",
        "    </tr>\n",
        "    <tr>\n",
        "      <th>1</th>\n",
        "      <td> 695662</td>\n",
        "      <td> 26448193</td>\n",
        "      <td>      Texas</td>\n",
        "    </tr>\n",
        "    <tr>\n",
        "      <th>2</th>\n",
        "      <td> 141297</td>\n",
        "      <td> 19651127</td>\n",
        "      <td>   New York</td>\n",
        "    </tr>\n",
        "    <tr>\n",
        "      <th>3</th>\n",
        "      <td> 170312</td>\n",
        "      <td> 19552860</td>\n",
        "      <td>    Florida</td>\n",
        "    </tr>\n",
        "    <tr>\n",
        "      <th>4</th>\n",
        "      <td> 149995</td>\n",
        "      <td> 12882135</td>\n",
        "      <td>   Illinois</td>\n",
        "    </tr>\n",
        "  </tbody>\n",
        "</table>\n",
        "</div>"
       ],
       "metadata": {},
       "output_type": "pyout",
       "prompt_number": 51,
       "text": [
        "     area  population       state\n",
        "0  423967    38332521  California\n",
        "1  695662    26448193       Texas\n",
        "2  141297    19651127    New York\n",
        "3  170312    19552860     Florida\n",
        "4  149995    12882135    Illinois"
       ]
      }
     ],
     "prompt_number": 51
    },
    {
     "cell_type": "markdown",
     "metadata": {},
     "source": [
      "If we don't like what the index looks like, we can reset it:"
     ]
    },
    {
     "cell_type": "code",
     "collapsed": false,
     "input": [
      "states = states.set_index('state')\n",
      "states"
     ],
     "language": "python",
     "metadata": {},
     "outputs": [
      {
       "html": [
        "<div style=\"max-height:1000px;max-width:1500px;overflow:auto;\">\n",
        "<table border=\"1\" class=\"dataframe\">\n",
        "  <thead>\n",
        "    <tr style=\"text-align: right;\">\n",
        "      <th></th>\n",
        "      <th>area</th>\n",
        "      <th>population</th>\n",
        "    </tr>\n",
        "    <tr>\n",
        "      <th>state</th>\n",
        "      <th></th>\n",
        "      <th></th>\n",
        "    </tr>\n",
        "  </thead>\n",
        "  <tbody>\n",
        "    <tr>\n",
        "      <th>California</th>\n",
        "      <td> 423967</td>\n",
        "      <td> 38332521</td>\n",
        "    </tr>\n",
        "    <tr>\n",
        "      <th>Texas</th>\n",
        "      <td> 695662</td>\n",
        "      <td> 26448193</td>\n",
        "    </tr>\n",
        "    <tr>\n",
        "      <th>New York</th>\n",
        "      <td> 141297</td>\n",
        "      <td> 19651127</td>\n",
        "    </tr>\n",
        "    <tr>\n",
        "      <th>Florida</th>\n",
        "      <td> 170312</td>\n",
        "      <td> 19552860</td>\n",
        "    </tr>\n",
        "    <tr>\n",
        "      <th>Illinois</th>\n",
        "      <td> 149995</td>\n",
        "      <td> 12882135</td>\n",
        "    </tr>\n",
        "  </tbody>\n",
        "</table>\n",
        "</div>"
       ],
       "metadata": {},
       "output_type": "pyout",
       "prompt_number": 52,
       "text": [
        "              area  population\n",
        "state                         \n",
        "California  423967    38332521\n",
        "Texas       695662    26448193\n",
        "New York    141297    19651127\n",
        "Florida     170312    19552860\n",
        "Illinois    149995    12882135"
       ]
      }
     ],
     "prompt_number": 52
    },
    {
     "cell_type": "markdown",
     "metadata": {},
     "source": [
      "To access a Series representing a column in the data, use typical slicing syntax:"
     ]
    },
    {
     "cell_type": "code",
     "collapsed": false,
     "input": [
      "states['area']"
     ],
     "language": "python",
     "metadata": {},
     "outputs": [
      {
       "metadata": {},
       "output_type": "pyout",
       "prompt_number": 53,
       "text": [
        "state\n",
        "California    423967\n",
        "Texas         695662\n",
        "New York      141297\n",
        "Florida       170312\n",
        "Illinois      149995\n",
        "Name: area, dtype: int64"
       ]
      }
     ],
     "prompt_number": 53
    },
    {
     "cell_type": "markdown",
     "metadata": {},
     "source": [
      "To access a row, you need to use a special row-location operator:"
     ]
    },
    {
     "cell_type": "code",
     "collapsed": false,
     "input": [
      "states.loc['California']"
     ],
     "language": "python",
     "metadata": {},
     "outputs": [
      {
       "metadata": {},
       "output_type": "pyout",
       "prompt_number": 54,
       "text": [
        "area            423967\n",
        "population    38332521\n",
        "Name: California, dtype: int64"
       ]
      }
     ],
     "prompt_number": 54
    },
    {
     "cell_type": "markdown",
     "metadata": {},
     "source": [
      "As you play around with DataFrames, you'll notice that many operations which work on NumPy arrays will also work on dataframes.\n",
      "\n",
      "For example there's arithmetic. Let's compute the area in square miles and add a column to the data"
     ]
    },
    {
     "cell_type": "code",
     "collapsed": false,
     "input": [
      "states['density'] = states['population'] / states['area']\n",
      "states"
     ],
     "language": "python",
     "metadata": {},
     "outputs": [
      {
       "html": [
        "<div style=\"max-height:1000px;max-width:1500px;overflow:auto;\">\n",
        "<table border=\"1\" class=\"dataframe\">\n",
        "  <thead>\n",
        "    <tr style=\"text-align: right;\">\n",
        "      <th></th>\n",
        "      <th>area</th>\n",
        "      <th>population</th>\n",
        "      <th>density</th>\n",
        "    </tr>\n",
        "    <tr>\n",
        "      <th>state</th>\n",
        "      <th></th>\n",
        "      <th></th>\n",
        "      <th></th>\n",
        "    </tr>\n",
        "  </thead>\n",
        "  <tbody>\n",
        "    <tr>\n",
        "      <th>California</th>\n",
        "      <td> 423967</td>\n",
        "      <td> 38332521</td>\n",
        "      <td>  90.413926</td>\n",
        "    </tr>\n",
        "    <tr>\n",
        "      <th>Texas</th>\n",
        "      <td> 695662</td>\n",
        "      <td> 26448193</td>\n",
        "      <td>  38.018740</td>\n",
        "    </tr>\n",
        "    <tr>\n",
        "      <th>New York</th>\n",
        "      <td> 141297</td>\n",
        "      <td> 19651127</td>\n",
        "      <td> 139.076746</td>\n",
        "    </tr>\n",
        "    <tr>\n",
        "      <th>Florida</th>\n",
        "      <td> 170312</td>\n",
        "      <td> 19552860</td>\n",
        "      <td> 114.806121</td>\n",
        "    </tr>\n",
        "    <tr>\n",
        "      <th>Illinois</th>\n",
        "      <td> 149995</td>\n",
        "      <td> 12882135</td>\n",
        "      <td>  85.883763</td>\n",
        "    </tr>\n",
        "  </tbody>\n",
        "</table>\n",
        "</div>"
       ],
       "metadata": {},
       "output_type": "pyout",
       "prompt_number": 55,
       "text": [
        "              area  population     density\n",
        "state                                     \n",
        "California  423967    38332521   90.413926\n",
        "Texas       695662    26448193   38.018740\n",
        "New York    141297    19651127  139.076746\n",
        "Florida     170312    19552860  114.806121\n",
        "Illinois    149995    12882135   85.883763"
       ]
      }
     ],
     "prompt_number": 55
    },
    {
     "cell_type": "markdown",
     "metadata": {},
     "source": [
      "We can even use masking the way we did in NumPy:"
     ]
    },
    {
     "cell_type": "code",
     "collapsed": false,
     "input": [
      "states[states['density'] > 100]"
     ],
     "language": "python",
     "metadata": {},
     "outputs": [
      {
       "html": [
        "<div style=\"max-height:1000px;max-width:1500px;overflow:auto;\">\n",
        "<table border=\"1\" class=\"dataframe\">\n",
        "  <thead>\n",
        "    <tr style=\"text-align: right;\">\n",
        "      <th></th>\n",
        "      <th>area</th>\n",
        "      <th>population</th>\n",
        "      <th>density</th>\n",
        "    </tr>\n",
        "    <tr>\n",
        "      <th>state</th>\n",
        "      <th></th>\n",
        "      <th></th>\n",
        "      <th></th>\n",
        "    </tr>\n",
        "  </thead>\n",
        "  <tbody>\n",
        "    <tr>\n",
        "      <th>New York</th>\n",
        "      <td> 141297</td>\n",
        "      <td> 19651127</td>\n",
        "      <td> 139.076746</td>\n",
        "    </tr>\n",
        "    <tr>\n",
        "      <th>Florida</th>\n",
        "      <td> 170312</td>\n",
        "      <td> 19552860</td>\n",
        "      <td> 114.806121</td>\n",
        "    </tr>\n",
        "  </tbody>\n",
        "</table>\n",
        "</div>"
       ],
       "metadata": {},
       "output_type": "pyout",
       "prompt_number": 56,
       "text": [
        "            area  population     density\n",
        "state                                   \n",
        "New York  141297    19651127  139.076746\n",
        "Florida   170312    19552860  114.806121"
       ]
      }
     ],
     "prompt_number": 56
    },
    {
     "cell_type": "markdown",
     "metadata": {},
     "source": [
      "And we can do things like sorting the items in the array, and indexing to take the first two rows:"
     ]
    },
    {
     "cell_type": "code",
     "collapsed": false,
     "input": [
      "states.sort_index(by='density', ascending=False)[:3]"
     ],
     "language": "python",
     "metadata": {},
     "outputs": [
      {
       "html": [
        "<div style=\"max-height:1000px;max-width:1500px;overflow:auto;\">\n",
        "<table border=\"1\" class=\"dataframe\">\n",
        "  <thead>\n",
        "    <tr style=\"text-align: right;\">\n",
        "      <th></th>\n",
        "      <th>area</th>\n",
        "      <th>population</th>\n",
        "      <th>density</th>\n",
        "    </tr>\n",
        "    <tr>\n",
        "      <th>state</th>\n",
        "      <th></th>\n",
        "      <th></th>\n",
        "      <th></th>\n",
        "    </tr>\n",
        "  </thead>\n",
        "  <tbody>\n",
        "    <tr>\n",
        "      <th>New York</th>\n",
        "      <td> 141297</td>\n",
        "      <td> 19651127</td>\n",
        "      <td> 139.076746</td>\n",
        "    </tr>\n",
        "    <tr>\n",
        "      <th>Florida</th>\n",
        "      <td> 170312</td>\n",
        "      <td> 19552860</td>\n",
        "      <td> 114.806121</td>\n",
        "    </tr>\n",
        "    <tr>\n",
        "      <th>California</th>\n",
        "      <td> 423967</td>\n",
        "      <td> 38332521</td>\n",
        "      <td>  90.413926</td>\n",
        "    </tr>\n",
        "  </tbody>\n",
        "</table>\n",
        "</div>"
       ],
       "metadata": {},
       "output_type": "pyout",
       "prompt_number": 57,
       "text": [
        "              area  population     density\n",
        "state                                     \n",
        "New York    141297    19651127  139.076746\n",
        "Florida     170312    19552860  114.806121\n",
        "California  423967    38332521   90.413926"
       ]
      }
     ],
     "prompt_number": 57
    },
    {
     "cell_type": "markdown",
     "metadata": {},
     "source": [
      "One useful method to use is the ``describe`` method, which computes summary statistics for each column:"
     ]
    },
    {
     "cell_type": "code",
     "collapsed": false,
     "input": [
      "states.describe()"
     ],
     "language": "python",
     "metadata": {},
     "outputs": [
      {
       "html": [
        "<div style=\"max-height:1000px;max-width:1500px;overflow:auto;\">\n",
        "<table border=\"1\" class=\"dataframe\">\n",
        "  <thead>\n",
        "    <tr style=\"text-align: right;\">\n",
        "      <th></th>\n",
        "      <th>area</th>\n",
        "      <th>population</th>\n",
        "      <th>density</th>\n",
        "    </tr>\n",
        "  </thead>\n",
        "  <tbody>\n",
        "    <tr>\n",
        "      <th>count</th>\n",
        "      <td>      5.000000</td>\n",
        "      <td>        5.000000</td>\n",
        "      <td>   5.000000</td>\n",
        "    </tr>\n",
        "    <tr>\n",
        "      <th>mean</th>\n",
        "      <td> 316246.600000</td>\n",
        "      <td> 23373367.200000</td>\n",
        "      <td>  93.639859</td>\n",
        "    </tr>\n",
        "    <tr>\n",
        "      <th>std</th>\n",
        "      <td> 242437.411951</td>\n",
        "      <td>  9640385.580443</td>\n",
        "      <td>  37.672251</td>\n",
        "    </tr>\n",
        "    <tr>\n",
        "      <th>min</th>\n",
        "      <td> 141297.000000</td>\n",
        "      <td> 12882135.000000</td>\n",
        "      <td>  38.018740</td>\n",
        "    </tr>\n",
        "    <tr>\n",
        "      <th>25%</th>\n",
        "      <td> 149995.000000</td>\n",
        "      <td> 19552860.000000</td>\n",
        "      <td>  85.883763</td>\n",
        "    </tr>\n",
        "    <tr>\n",
        "      <th>50%</th>\n",
        "      <td> 170312.000000</td>\n",
        "      <td> 19651127.000000</td>\n",
        "      <td>  90.413926</td>\n",
        "    </tr>\n",
        "    <tr>\n",
        "      <th>75%</th>\n",
        "      <td> 423967.000000</td>\n",
        "      <td> 26448193.000000</td>\n",
        "      <td> 114.806121</td>\n",
        "    </tr>\n",
        "    <tr>\n",
        "      <th>max</th>\n",
        "      <td> 695662.000000</td>\n",
        "      <td> 38332521.000000</td>\n",
        "      <td> 139.076746</td>\n",
        "    </tr>\n",
        "  </tbody>\n",
        "</table>\n",
        "</div>"
       ],
       "metadata": {},
       "output_type": "pyout",
       "prompt_number": 58,
       "text": [
        "                area       population     density\n",
        "count       5.000000         5.000000    5.000000\n",
        "mean   316246.600000  23373367.200000   93.639859\n",
        "std    242437.411951   9640385.580443   37.672251\n",
        "min    141297.000000  12882135.000000   38.018740\n",
        "25%    149995.000000  19552860.000000   85.883763\n",
        "50%    170312.000000  19651127.000000   90.413926\n",
        "75%    423967.000000  26448193.000000  114.806121\n",
        "max    695662.000000  38332521.000000  139.076746"
       ]
      }
     ],
     "prompt_number": 58
    },
    {
     "cell_type": "markdown",
     "metadata": {},
     "source": [
      "There are many, many more interesting operations that can be done on Series and DataFrame objects, but rather than continue using this toy data, we'll instead move to a real-world example, and illustrate some of the advanced concepts along the way."
     ]
    },
    {
     "cell_type": "markdown",
     "metadata": {},
     "source": [
      "## Example: Names in the Wild\n",
      "\n",
      "This example is drawn from Wes McKinney's excellent book on the *Pandas* library, O'Reilly's [Python for Data Analysis](http://shop.oreilly.com/product/0636920023784.do).\n",
      "\n",
      "We'll be taking a look at a freely available dataset: the database of names given to babies in the United States over the last century.\n",
      "\n",
      "First things first, we need to download the data, which can be found at http://www.ssa.gov/oact/babynames/limits.html.\n",
      "If you uncomment the following commands, it will do this automatically (though this does not work on Windows):"
     ]
    },
    {
     "cell_type": "code",
     "collapsed": false,
     "input": [
      "# !curl -O http://www.ssa.gov/oact/babynames/names.zip"
     ],
     "language": "python",
     "metadata": {},
     "outputs": [],
     "prompt_number": 59
    },
    {
     "cell_type": "code",
     "collapsed": false,
     "input": [
      "# !mkdir -p data/names\n",
      "# !mv names.zip data/names\n",
      "# !cd data/names && unzip names.zip"
     ],
     "language": "python",
     "metadata": {},
     "outputs": [],
     "prompt_number": 60
    },
    {
     "cell_type": "markdown",
     "metadata": {},
     "source": [
      "Now we should have a ``data/names`` directory which contains a number of text files, one for each year of data:"
     ]
    },
    {
     "cell_type": "code",
     "collapsed": false,
     "input": [
      "!ls data/names"
     ],
     "language": "python",
     "metadata": {},
     "outputs": [
      {
       "output_type": "stream",
       "stream": "stdout",
       "text": [
        "NationalReadMe.pdf yob1913.txt        yob1947.txt        yob1981.txt\r\n",
        "yob1880.txt        yob1914.txt        yob1948.txt        yob1982.txt\r\n",
        "yob1881.txt        yob1915.txt        yob1949.txt        yob1983.txt\r\n",
        "yob1882.txt        yob1916.txt        yob1950.txt        yob1984.txt\r\n",
        "yob1883.txt        yob1917.txt        yob1951.txt        yob1985.txt\r\n",
        "yob1884.txt        yob1918.txt        yob1952.txt        yob1986.txt\r\n",
        "yob1885.txt        yob1919.txt        yob1953.txt        yob1987.txt\r\n",
        "yob1886.txt        yob1920.txt        yob1954.txt        yob1988.txt\r\n",
        "yob1887.txt        yob1921.txt        yob1955.txt        yob1989.txt\r\n",
        "yob1888.txt        yob1922.txt        yob1956.txt        yob1990.txt\r\n",
        "yob1889.txt        yob1923.txt        yob1957.txt        yob1991.txt\r\n",
        "yob1890.txt        yob1924.txt        yob1958.txt        yob1992.txt\r\n",
        "yob1891.txt        yob1925.txt        yob1959.txt        yob1993.txt\r\n",
        "yob1892.txt        yob1926.txt        yob1960.txt        yob1994.txt\r\n",
        "yob1893.txt        yob1927.txt        yob1961.txt        yob1995.txt\r\n",
        "yob1894.txt        yob1928.txt        yob1962.txt        yob1996.txt\r\n",
        "yob1895.txt        yob1929.txt        yob1963.txt        yob1997.txt\r\n",
        "yob1896.txt        yob1930.txt        yob1964.txt        yob1998.txt\r\n",
        "yob1897.txt        yob1931.txt        yob1965.txt        yob1999.txt\r\n",
        "yob1898.txt        yob1932.txt        yob1966.txt        yob2000.txt\r\n",
        "yob1899.txt        yob1933.txt        yob1967.txt        yob2001.txt\r\n",
        "yob1900.txt        yob1934.txt        yob1968.txt        yob2002.txt\r\n",
        "yob1901.txt        yob1935.txt        yob1969.txt        yob2003.txt\r\n",
        "yob1902.txt        yob1936.txt        yob1970.txt        yob2004.txt\r\n",
        "yob1903.txt        yob1937.txt        yob1971.txt        yob2005.txt\r\n",
        "yob1904.txt        yob1938.txt        yob1972.txt        yob2006.txt\r\n",
        "yob1905.txt        yob1939.txt        yob1973.txt        yob2007.txt\r\n",
        "yob1906.txt        yob1940.txt        yob1974.txt        yob2008.txt\r\n",
        "yob1907.txt        yob1941.txt        yob1975.txt        yob2009.txt\r\n",
        "yob1908.txt        yob1942.txt        yob1976.txt        yob2010.txt\r\n",
        "yob1909.txt        yob1943.txt        yob1977.txt        yob2011.txt\r\n",
        "yob1910.txt        yob1944.txt        yob1978.txt        yob2012.txt\r\n",
        "yob1911.txt        yob1945.txt        yob1979.txt        yob2013.txt\r\n",
        "yob1912.txt        yob1946.txt        yob1980.txt\r\n"
       ]
      }
     ],
     "prompt_number": 61
    },
    {
     "cell_type": "markdown",
     "metadata": {},
     "source": [
      "Let's take a quick look at one of these files:"
     ]
    },
    {
     "cell_type": "code",
     "collapsed": false,
     "input": [
      "!head data/names/yob1880.txt"
     ],
     "language": "python",
     "metadata": {},
     "outputs": [
      {
       "output_type": "stream",
       "stream": "stdout",
       "text": [
        "Mary,F,7065\r",
        "\r\n",
        "Anna,F,2604\r",
        "\r\n",
        "Emma,F,2003\r",
        "\r\n",
        "Elizabeth,F,1939\r",
        "\r\n",
        "Minnie,F,1746\r",
        "\r\n",
        "Margaret,F,1578\r",
        "\r\n",
        "Ida,F,1472\r",
        "\r\n",
        "Alice,F,1414\r",
        "\r\n",
        "Bertha,F,1320\r",
        "\r\n",
        "Sarah,F,1288\r",
        "\r\n"
       ]
      }
     ],
     "prompt_number": 62
    },
    {
     "cell_type": "markdown",
     "metadata": {},
     "source": [
      "Each file is just a comma-separated list of names, genders, and counts of babies with that name in each year.\n",
      "\n",
      "We can load these files using ``pd.read_csv``, which is specifically designed for this:"
     ]
    },
    {
     "cell_type": "code",
     "collapsed": false,
     "input": [
      "names1880 = pd.read_csv('data/names/yob1880.txt')\n",
      "names1880.head()"
     ],
     "language": "python",
     "metadata": {},
     "outputs": [
      {
       "html": [
        "<div style=\"max-height:1000px;max-width:1500px;overflow:auto;\">\n",
        "<table border=\"1\" class=\"dataframe\">\n",
        "  <thead>\n",
        "    <tr style=\"text-align: right;\">\n",
        "      <th></th>\n",
        "      <th>Mary</th>\n",
        "      <th>F</th>\n",
        "      <th>7065</th>\n",
        "    </tr>\n",
        "  </thead>\n",
        "  <tbody>\n",
        "    <tr>\n",
        "      <th>0</th>\n",
        "      <td>      Anna</td>\n",
        "      <td> F</td>\n",
        "      <td> 2604</td>\n",
        "    </tr>\n",
        "    <tr>\n",
        "      <th>1</th>\n",
        "      <td>      Emma</td>\n",
        "      <td> F</td>\n",
        "      <td> 2003</td>\n",
        "    </tr>\n",
        "    <tr>\n",
        "      <th>2</th>\n",
        "      <td> Elizabeth</td>\n",
        "      <td> F</td>\n",
        "      <td> 1939</td>\n",
        "    </tr>\n",
        "    <tr>\n",
        "      <th>3</th>\n",
        "      <td>    Minnie</td>\n",
        "      <td> F</td>\n",
        "      <td> 1746</td>\n",
        "    </tr>\n",
        "    <tr>\n",
        "      <th>4</th>\n",
        "      <td>  Margaret</td>\n",
        "      <td> F</td>\n",
        "      <td> 1578</td>\n",
        "    </tr>\n",
        "  </tbody>\n",
        "</table>\n",
        "</div>"
       ],
       "metadata": {},
       "output_type": "pyout",
       "prompt_number": 63,
       "text": [
        "        Mary  F  7065\n",
        "0       Anna  F  2604\n",
        "1       Emma  F  2003\n",
        "2  Elizabeth  F  1939\n",
        "3     Minnie  F  1746\n",
        "4   Margaret  F  1578"
       ]
      }
     ],
     "prompt_number": 63
    },
    {
     "cell_type": "markdown",
     "metadata": {},
     "source": [
      "Oops! Something went wrong. Our algorithm tried to be smart, and use the first line as index labels.\n",
      "Let's fix this by specifying the index names manually:"
     ]
    },
    {
     "cell_type": "code",
     "collapsed": false,
     "input": [
      "names1880 = pd.read_csv('data/names/yob1880.txt',\n",
      "                        names=['name', 'gender', 'births'])\n",
      "names1880.head()"
     ],
     "language": "python",
     "metadata": {},
     "outputs": [
      {
       "html": [
        "<div style=\"max-height:1000px;max-width:1500px;overflow:auto;\">\n",
        "<table border=\"1\" class=\"dataframe\">\n",
        "  <thead>\n",
        "    <tr style=\"text-align: right;\">\n",
        "      <th></th>\n",
        "      <th>name</th>\n",
        "      <th>gender</th>\n",
        "      <th>births</th>\n",
        "    </tr>\n",
        "  </thead>\n",
        "  <tbody>\n",
        "    <tr>\n",
        "      <th>0</th>\n",
        "      <td>      Mary</td>\n",
        "      <td> F</td>\n",
        "      <td> 7065</td>\n",
        "    </tr>\n",
        "    <tr>\n",
        "      <th>1</th>\n",
        "      <td>      Anna</td>\n",
        "      <td> F</td>\n",
        "      <td> 2604</td>\n",
        "    </tr>\n",
        "    <tr>\n",
        "      <th>2</th>\n",
        "      <td>      Emma</td>\n",
        "      <td> F</td>\n",
        "      <td> 2003</td>\n",
        "    </tr>\n",
        "    <tr>\n",
        "      <th>3</th>\n",
        "      <td> Elizabeth</td>\n",
        "      <td> F</td>\n",
        "      <td> 1939</td>\n",
        "    </tr>\n",
        "    <tr>\n",
        "      <th>4</th>\n",
        "      <td>    Minnie</td>\n",
        "      <td> F</td>\n",
        "      <td> 1746</td>\n",
        "    </tr>\n",
        "  </tbody>\n",
        "</table>\n",
        "</div>"
       ],
       "metadata": {},
       "output_type": "pyout",
       "prompt_number": 64,
       "text": [
        "        name gender  births\n",
        "0       Mary      F    7065\n",
        "1       Anna      F    2604\n",
        "2       Emma      F    2003\n",
        "3  Elizabeth      F    1939\n",
        "4     Minnie      F    1746"
       ]
      }
     ],
     "prompt_number": 64
    },
    {
     "cell_type": "markdown",
     "metadata": {},
     "source": [
      "That looks better. Now we can start playing with the data a bit."
     ]
    },
    {
     "cell_type": "markdown",
     "metadata": {},
     "source": [
      "### GroupBy: aggregates on values\n",
      "\n",
      "First let's think about how we might count the total number of females and males born in the US in 1880.\n",
      "\n",
      "If you're used to NumPy, you might be tempted to use masking like this:\n",
      "\n",
      "First, we can get a mask over all females & males, and then use it to select a subset of the data:"
     ]
    },
    {
     "cell_type": "code",
     "collapsed": false,
     "input": [
      "males = names1880[names1880.gender == 'M']\n",
      "females = names1880[names1880.gender == 'F']"
     ],
     "language": "python",
     "metadata": {},
     "outputs": [],
     "prompt_number": 65
    },
    {
     "cell_type": "markdown",
     "metadata": {},
     "source": [
      "Now we can take the sum of the births for each of these:"
     ]
    },
    {
     "cell_type": "code",
     "collapsed": false,
     "input": [
      "males.births.sum(), females.births.sum()"
     ],
     "language": "python",
     "metadata": {},
     "outputs": [
      {
       "metadata": {},
       "output_type": "pyout",
       "prompt_number": 66,
       "text": [
        "(110491, 90993)"
       ]
      }
     ],
     "prompt_number": 66
    },
    {
     "cell_type": "markdown",
     "metadata": {},
     "source": [
      "But there's an easier way to do this, using one of Pandas' very powerful features: ``groupby``:"
     ]
    },
    {
     "cell_type": "code",
     "collapsed": false,
     "input": [
      "grouped = names1880.groupby('gender')\n",
      "grouped"
     ],
     "language": "python",
     "metadata": {},
     "outputs": [
      {
       "metadata": {},
       "output_type": "pyout",
       "prompt_number": 67,
       "text": [
        "<pandas.core.groupby.DataFrameGroupBy object at 0x10eef7650>"
       ]
      }
     ],
     "prompt_number": 67
    },
    {
     "cell_type": "markdown",
     "metadata": {},
     "source": [
      "This grouped object is now an abstract representation of the data, where the data is split on the given column.\n",
      "In order to actually do something with this data, we need to specify an **aggregation** operation to do across the data.\n",
      "In this case, what we want is the sum:"
     ]
    },
    {
     "cell_type": "code",
     "collapsed": false,
     "input": [
      "grouped.sum()"
     ],
     "language": "python",
     "metadata": {},
     "outputs": [
      {
       "html": [
        "<div style=\"max-height:1000px;max-width:1500px;overflow:auto;\">\n",
        "<table border=\"1\" class=\"dataframe\">\n",
        "  <thead>\n",
        "    <tr style=\"text-align: right;\">\n",
        "      <th></th>\n",
        "      <th>births</th>\n",
        "    </tr>\n",
        "    <tr>\n",
        "      <th>gender</th>\n",
        "      <th></th>\n",
        "    </tr>\n",
        "  </thead>\n",
        "  <tbody>\n",
        "    <tr>\n",
        "      <th>F</th>\n",
        "      <td>  90993</td>\n",
        "    </tr>\n",
        "    <tr>\n",
        "      <th>M</th>\n",
        "      <td> 110491</td>\n",
        "    </tr>\n",
        "  </tbody>\n",
        "</table>\n",
        "</div>"
       ],
       "metadata": {},
       "output_type": "pyout",
       "prompt_number": 68,
       "text": [
        "        births\n",
        "gender        \n",
        "F        90993\n",
        "M       110491"
       ]
      }
     ],
     "prompt_number": 68
    },
    {
     "cell_type": "markdown",
     "metadata": {},
     "source": [
      "We can do other aggregations as well:"
     ]
    },
    {
     "cell_type": "code",
     "collapsed": false,
     "input": [
      "grouped.size()"
     ],
     "language": "python",
     "metadata": {},
     "outputs": [
      {
       "metadata": {},
       "output_type": "pyout",
       "prompt_number": 69,
       "text": [
        "gender\n",
        "F          942\n",
        "M         1058\n",
        "dtype: int64"
       ]
      }
     ],
     "prompt_number": 69
    },
    {
     "cell_type": "code",
     "collapsed": false,
     "input": [
      "grouped.mean()"
     ],
     "language": "python",
     "metadata": {},
     "outputs": [
      {
       "html": [
        "<div style=\"max-height:1000px;max-width:1500px;overflow:auto;\">\n",
        "<table border=\"1\" class=\"dataframe\">\n",
        "  <thead>\n",
        "    <tr style=\"text-align: right;\">\n",
        "      <th></th>\n",
        "      <th>births</th>\n",
        "    </tr>\n",
        "    <tr>\n",
        "      <th>gender</th>\n",
        "      <th></th>\n",
        "    </tr>\n",
        "  </thead>\n",
        "  <tbody>\n",
        "    <tr>\n",
        "      <th>F</th>\n",
        "      <td>  96.595541</td>\n",
        "    </tr>\n",
        "    <tr>\n",
        "      <th>M</th>\n",
        "      <td> 104.433837</td>\n",
        "    </tr>\n",
        "  </tbody>\n",
        "</table>\n",
        "</div>"
       ],
       "metadata": {},
       "output_type": "pyout",
       "prompt_number": 70,
       "text": [
        "            births\n",
        "gender            \n",
        "F        96.595541\n",
        "M       104.433837"
       ]
      }
     ],
     "prompt_number": 70
    },
    {
     "cell_type": "markdown",
     "metadata": {},
     "source": [
      "Or, if we wish, we can get a description of the grouping:"
     ]
    },
    {
     "cell_type": "code",
     "collapsed": false,
     "input": [
      "grouped.describe()"
     ],
     "language": "python",
     "metadata": {},
     "outputs": [
      {
       "html": [
        "<div style=\"max-height:1000px;max-width:1500px;overflow:auto;\">\n",
        "<table border=\"1\" class=\"dataframe\">\n",
        "  <thead>\n",
        "    <tr style=\"text-align: right;\">\n",
        "      <th></th>\n",
        "      <th></th>\n",
        "      <th>births</th>\n",
        "    </tr>\n",
        "    <tr>\n",
        "      <th>gender</th>\n",
        "      <th></th>\n",
        "      <th></th>\n",
        "    </tr>\n",
        "  </thead>\n",
        "  <tbody>\n",
        "    <tr>\n",
        "      <th rowspan=\"8\" valign=\"top\">F</th>\n",
        "      <th>count</th>\n",
        "      <td>  942.000000</td>\n",
        "    </tr>\n",
        "    <tr>\n",
        "      <th>mean</th>\n",
        "      <td>   96.595541</td>\n",
        "    </tr>\n",
        "    <tr>\n",
        "      <th>std</th>\n",
        "      <td>  328.152904</td>\n",
        "    </tr>\n",
        "    <tr>\n",
        "      <th>min</th>\n",
        "      <td>    5.000000</td>\n",
        "    </tr>\n",
        "    <tr>\n",
        "      <th>25%</th>\n",
        "      <td>    7.000000</td>\n",
        "    </tr>\n",
        "    <tr>\n",
        "      <th>50%</th>\n",
        "      <td>   13.000000</td>\n",
        "    </tr>\n",
        "    <tr>\n",
        "      <th>75%</th>\n",
        "      <td>   43.750000</td>\n",
        "    </tr>\n",
        "    <tr>\n",
        "      <th>max</th>\n",
        "      <td> 7065.000000</td>\n",
        "    </tr>\n",
        "    <tr>\n",
        "      <th rowspan=\"8\" valign=\"top\">M</th>\n",
        "      <th>count</th>\n",
        "      <td> 1058.000000</td>\n",
        "    </tr>\n",
        "    <tr>\n",
        "      <th>mean</th>\n",
        "      <td>  104.433837</td>\n",
        "    </tr>\n",
        "    <tr>\n",
        "      <th>std</th>\n",
        "      <td>  561.232488</td>\n",
        "    </tr>\n",
        "    <tr>\n",
        "      <th>min</th>\n",
        "      <td>    5.000000</td>\n",
        "    </tr>\n",
        "    <tr>\n",
        "      <th>25%</th>\n",
        "      <td>    7.000000</td>\n",
        "    </tr>\n",
        "    <tr>\n",
        "      <th>50%</th>\n",
        "      <td>   12.000000</td>\n",
        "    </tr>\n",
        "    <tr>\n",
        "      <th>75%</th>\n",
        "      <td>   41.000000</td>\n",
        "    </tr>\n",
        "    <tr>\n",
        "      <th>max</th>\n",
        "      <td> 9655.000000</td>\n",
        "    </tr>\n",
        "  </tbody>\n",
        "</table>\n",
        "</div>"
       ],
       "metadata": {},
       "output_type": "pyout",
       "prompt_number": 71,
       "text": [
        "                   births\n",
        "gender                   \n",
        "F      count   942.000000\n",
        "       mean     96.595541\n",
        "       std     328.152904\n",
        "       min       5.000000\n",
        "       25%       7.000000\n",
        "       50%      13.000000\n",
        "       75%      43.750000\n",
        "       max    7065.000000\n",
        "M      count  1058.000000\n",
        "       mean    104.433837\n",
        "       std     561.232488\n",
        "       min       5.000000\n",
        "       25%       7.000000\n",
        "       50%      12.000000\n",
        "       75%      41.000000\n",
        "       max    9655.000000"
       ]
      }
     ],
     "prompt_number": 71
    },
    {
     "cell_type": "markdown",
     "metadata": {},
     "source": [
      "### Concatenating multiple data sources\n",
      "\n",
      "But here we've just been looking at a single year. Let's try to put together all the data in all the years.\n",
      "To do this, we'll have to use pandas ``concat`` function to concatenate all the data together.\n",
      "First we'll create a function which loads the data as we did the above data:"
     ]
    },
    {
     "cell_type": "code",
     "collapsed": false,
     "input": [
      "def load_year(year):\n",
      "    data = pd.read_csv('data/names/yob{0}.txt'.format(year),\n",
      "                       names=['name', 'gender', 'births'])\n",
      "    data['year'] = year\n",
      "    return data"
     ],
     "language": "python",
     "metadata": {},
     "outputs": [],
     "prompt_number": 72
    },
    {
     "cell_type": "markdown",
     "metadata": {},
     "source": [
      "Now let's load all the data into a list, and call ``pd.concat`` on that list:"
     ]
    },
    {
     "cell_type": "code",
     "collapsed": false,
     "input": [
      "names = pd.concat([load_year(year) for year in range(1880, 2014)])\n",
      "names.head()"
     ],
     "language": "python",
     "metadata": {},
     "outputs": [
      {
       "html": [
        "<div style=\"max-height:1000px;max-width:1500px;overflow:auto;\">\n",
        "<table border=\"1\" class=\"dataframe\">\n",
        "  <thead>\n",
        "    <tr style=\"text-align: right;\">\n",
        "      <th></th>\n",
        "      <th>name</th>\n",
        "      <th>gender</th>\n",
        "      <th>births</th>\n",
        "      <th>year</th>\n",
        "    </tr>\n",
        "  </thead>\n",
        "  <tbody>\n",
        "    <tr>\n",
        "      <th>0</th>\n",
        "      <td>      Mary</td>\n",
        "      <td> F</td>\n",
        "      <td> 7065</td>\n",
        "      <td> 1880</td>\n",
        "    </tr>\n",
        "    <tr>\n",
        "      <th>1</th>\n",
        "      <td>      Anna</td>\n",
        "      <td> F</td>\n",
        "      <td> 2604</td>\n",
        "      <td> 1880</td>\n",
        "    </tr>\n",
        "    <tr>\n",
        "      <th>2</th>\n",
        "      <td>      Emma</td>\n",
        "      <td> F</td>\n",
        "      <td> 2003</td>\n",
        "      <td> 1880</td>\n",
        "    </tr>\n",
        "    <tr>\n",
        "      <th>3</th>\n",
        "      <td> Elizabeth</td>\n",
        "      <td> F</td>\n",
        "      <td> 1939</td>\n",
        "      <td> 1880</td>\n",
        "    </tr>\n",
        "    <tr>\n",
        "      <th>4</th>\n",
        "      <td>    Minnie</td>\n",
        "      <td> F</td>\n",
        "      <td> 1746</td>\n",
        "      <td> 1880</td>\n",
        "    </tr>\n",
        "  </tbody>\n",
        "</table>\n",
        "</div>"
       ],
       "metadata": {},
       "output_type": "pyout",
       "prompt_number": 73,
       "text": [
        "        name gender  births  year\n",
        "0       Mary      F    7065  1880\n",
        "1       Anna      F    2604  1880\n",
        "2       Emma      F    2003  1880\n",
        "3  Elizabeth      F    1939  1880\n",
        "4     Minnie      F    1746  1880"
       ]
      }
     ],
     "prompt_number": 73
    },
    {
     "cell_type": "markdown",
     "metadata": {},
     "source": [
      "It looks like we've done it!\n",
      "\n",
      "Let's start with something easy: we'll use ``groupby`` again to see the total number of births per year:"
     ]
    },
    {
     "cell_type": "code",
     "collapsed": false,
     "input": [
      "births = names.groupby('year').births.sum()\n",
      "births.head()"
     ],
     "language": "python",
     "metadata": {},
     "outputs": [
      {
       "metadata": {},
       "output_type": "pyout",
       "prompt_number": 74,
       "text": [
        "year\n",
        "1880    201484\n",
        "1881    192700\n",
        "1882    221537\n",
        "1883    216952\n",
        "1884    243468\n",
        "Name: births, dtype: int64"
       ]
      }
     ],
     "prompt_number": 74
    },
    {
     "cell_type": "markdown",
     "metadata": {},
     "source": [
      "We can use the ``plot()`` method to see a quick plot of these (note that because we used the ``%matplotlib inline`` magic at the start of the notebook, the resulting plot will be shown inline within the notebook)."
     ]
    },
    {
     "cell_type": "code",
     "collapsed": false,
     "input": [
      "births.plot();"
     ],
     "language": "python",
     "metadata": {},
     "outputs": [
      {
       "metadata": {},
       "output_type": "display_data",
       "png": "[encoded data removed]",
       "text": [
        "<matplotlib.figure.Figure at 0x10abb1ad0>"
       ]
      }
     ],
     "prompt_number": 75
    },
    {
     "cell_type": "markdown",
     "metadata": {},
     "source": [
      "The so-called \"baby boom\" generation after the second world war is abundantly clear!"
     ]
    },
    {
     "cell_type": "markdown",
     "metadata": {},
     "source": [
      "### Pivot Tables: GroupBy in Multiple Dimensions"
     ]
    }
   ],
   "metadata": {}
  }
 ]
}